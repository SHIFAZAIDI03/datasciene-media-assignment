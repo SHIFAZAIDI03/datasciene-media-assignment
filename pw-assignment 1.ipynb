{
 "cells": [
  {
   "cell_type": "code",
   "execution_count": 15,
   "id": "8600c281-bc44-458d-a956-c39e177b75d7",
   "metadata": {},
   "outputs": [
    {
     "name": "stdout",
     "output_type": "stream",
     "text": [
      "not divisiblle 1\n",
      "not divisiblle 2\n",
      "divisible 3\n",
      "not divisiblle 4\n",
      "not divisiblle 5\n",
      "divisible 6\n",
      "not divisiblle 7\n",
      "not divisiblle 8\n",
      "divisible 9\n",
      "not divisiblle 10\n",
      "not divisiblle 11\n",
      "divisible 12\n",
      "not divisiblle 13\n",
      "not divisiblle 14\n",
      "divisible 15\n",
      "not divisiblle 16\n",
      "not divisiblle 17\n",
      "divisible 18\n",
      "not divisiblle 19\n",
      "not divisiblle 20\n",
      "divisible 21\n",
      "not divisiblle 22\n",
      "not divisiblle 23\n",
      "divisible 24\n",
      "not divisiblle 25\n"
     ]
    }
   ],
   "source": [
    "g = [1,2,3,4,5,6,7,8,9,10,11,12,13,14,15,16,17,18,19,20,21,22,23,24,25] #QUESTION6\n",
    "for i in g:\n",
    "   if (i%3)==0 :\n",
    "        print(\"divisible\",i)\n",
    "   else:\n",
    "            print(\"not divisiblle\",i)"
   ]
  },
  {
   "cell_type": "code",
   "execution_count": 24,
   "id": "e3e62008-8911-42cf-9a11-8cdbfd66e492",
   "metadata": {},
   "outputs": [],
   "source": [
    "'''mutuable=cannot change ex=tuple,string QYESTION7\n",
    "immutuable=change ex=list'''\n",
    "l = [1,2,3,'shifa']\n",
    "l[3]=45\n"
   ]
  },
  {
   "cell_type": "code",
   "execution_count": 25,
   "id": "7a2a1eaf-5096-4620-b7d3-27dcae578a7d",
   "metadata": {},
   "outputs": [
    {
     "data": {
      "text/plain": [
       "[1, 2, 3, 45]"
      ]
     },
     "execution_count": 25,
     "metadata": {},
     "output_type": "execute_result"
    }
   ],
   "source": [
    "l"
   ]
  },
  {
   "cell_type": "code",
   "execution_count": 26,
   "id": "59328136-55e6-4140-927b-3b78daf9b775",
   "metadata": {},
   "outputs": [
    {
     "ename": "TypeError",
     "evalue": "'str' object does not support item assignment",
     "output_type": "error",
     "traceback": [
      "\u001b[0;31m---------------------------------------------------------------------------\u001b[0m",
      "\u001b[0;31mTypeError\u001b[0m                                 Traceback (most recent call last)",
      "Cell \u001b[0;32mIn[26], line 2\u001b[0m\n\u001b[1;32m      1\u001b[0m s \u001b[38;5;241m=\u001b[39m \u001b[38;5;124m'\u001b[39m\u001b[38;5;124mshifa\u001b[39m\u001b[38;5;124m'\u001b[39m\n\u001b[0;32m----> 2\u001b[0m \u001b[43ms\u001b[49m\u001b[43m[\u001b[49m\u001b[38;5;241;43m2\u001b[39;49m\u001b[43m]\u001b[49m\u001b[38;5;241m=\u001b[39mi\n",
      "\u001b[0;31mTypeError\u001b[0m: 'str' object does not support item assignment"
     ]
    }
   ],
   "source": [
    "s = 'shifa'\n",
    "s[2]=i\n"
   ]
  },
  {
   "cell_type": "code",
   "execution_count": 27,
   "id": "f61d0a84-1d8a-4aa2-9377-e66fe0cf793f",
   "metadata": {},
   "outputs": [],
   "source": [
    "l = [1,'shifa',\"assignment\",4+3j,True,3.65,6,'pwskills',False,9+4j] #QUESTION3"
   ]
  },
  {
   "cell_type": "code",
   "execution_count": 29,
   "id": "15ba7891-3744-43af-a541-8c2fe1538f3e",
   "metadata": {},
   "outputs": [
    {
     "name": "stdout",
     "output_type": "stream",
     "text": [
      "1\n",
      "shifa\n",
      "assignment\n",
      "(4+3j)\n",
      "True\n",
      "3.65\n",
      "6\n",
      "pwskills\n",
      "False\n",
      "(9+4j)\n"
     ]
    }
   ],
   "source": [
    "for i in l :\n",
    "    print(i)"
   ]
  },
  {
   "cell_type": "code",
   "execution_count": 30,
   "id": "b10fc756-36dc-4c2f-8525-7e377803ecc2",
   "metadata": {},
   "outputs": [],
   "source": [
    " #QUESTION1\n",
    "A='SHIFA'"
   ]
  },
  {
   "cell_type": "code",
   "execution_count": 31,
   "id": "7ec4b6bd-4482-4bcd-bf25-bd076f430ef2",
   "metadata": {},
   "outputs": [
    {
     "data": {
      "text/plain": [
       "str"
      ]
     },
     "execution_count": 31,
     "metadata": {},
     "output_type": "execute_result"
    }
   ],
   "source": [
    "type(A)"
   ]
  },
  {
   "cell_type": "code",
   "execution_count": 32,
   "id": "3225cee0-16ba-4c79-89e8-e0e007abc119",
   "metadata": {},
   "outputs": [],
   "source": [
    "B=[1,2,3,'PWSKILLS']"
   ]
  },
  {
   "cell_type": "code",
   "execution_count": 33,
   "id": "7ec606e0-efd8-493d-9e20-7f309b232cbc",
   "metadata": {},
   "outputs": [
    {
     "data": {
      "text/plain": [
       "list"
      ]
     },
     "execution_count": 33,
     "metadata": {},
     "output_type": "execute_result"
    }
   ],
   "source": [
    "type(B)"
   ]
  },
  {
   "cell_type": "code",
   "execution_count": 34,
   "id": "14de8912-9731-489e-8bc8-483db9d24f39",
   "metadata": {},
   "outputs": [],
   "source": [
    "C=3.04"
   ]
  },
  {
   "cell_type": "code",
   "execution_count": 35,
   "id": "61d497a9-b346-4f08-b9c8-893847720a1b",
   "metadata": {},
   "outputs": [
    {
     "data": {
      "text/plain": [
       "float"
      ]
     },
     "execution_count": 35,
     "metadata": {},
     "output_type": "execute_result"
    }
   ],
   "source": [
    "type(C)"
   ]
  },
  {
   "cell_type": "code",
   "execution_count": 36,
   "id": "1a93ae01-ba6e-4440-b193-8274c9f6071f",
   "metadata": {},
   "outputs": [],
   "source": [
    "D=(1,2,4,\"SHIFA\")"
   ]
  },
  {
   "cell_type": "code",
   "execution_count": 37,
   "id": "da79eeb0-dbf2-4ab3-865d-bb16040968cc",
   "metadata": {},
   "outputs": [
    {
     "data": {
      "text/plain": [
       "tuple"
      ]
     },
     "execution_count": 37,
     "metadata": {},
     "output_type": "execute_result"
    }
   ],
   "source": [
    "type(D)"
   ]
  },
  {
   "cell_type": "code",
   "execution_count": 38,
   "id": "5ac361d3-c8e3-49bf-9fc9-aa198fff4be5",
   "metadata": {},
   "outputs": [],
   "source": [
    "#QUESTION4\n",
    "var1=''"
   ]
  },
  {
   "cell_type": "code",
   "execution_count": 39,
   "id": "a8f551b1-2919-440c-baff-834f3395d8ae",
   "metadata": {},
   "outputs": [
    {
     "data": {
      "text/plain": [
       "str"
      ]
     },
     "execution_count": 39,
     "metadata": {},
     "output_type": "execute_result"
    }
   ],
   "source": [
    "type(var1)"
   ]
  },
  {
   "cell_type": "code",
   "execution_count": 40,
   "id": "26015b18-261c-46d5-824b-dd3646f133b8",
   "metadata": {},
   "outputs": [],
   "source": [
    "var2='[DS,ML,PYTHON]'"
   ]
  },
  {
   "cell_type": "code",
   "execution_count": 41,
   "id": "36c15833-92f1-4e29-88c0-56378c0c21a9",
   "metadata": {},
   "outputs": [
    {
     "data": {
      "text/plain": [
       "str"
      ]
     },
     "execution_count": 41,
     "metadata": {},
     "output_type": "execute_result"
    }
   ],
   "source": [
    "type(var2)"
   ]
  },
  {
   "cell_type": "code",
   "execution_count": 42,
   "id": "a6d4d944-66b5-4200-add8-f6d1241f5480",
   "metadata": {},
   "outputs": [],
   "source": [
    "var3=['DS','ML','PYTHON']"
   ]
  },
  {
   "cell_type": "code",
   "execution_count": 43,
   "id": "0cfef5eb-7de7-4bdd-a942-ad3ae3b2e56f",
   "metadata": {},
   "outputs": [
    {
     "data": {
      "text/plain": [
       "list"
      ]
     },
     "execution_count": 43,
     "metadata": {},
     "output_type": "execute_result"
    }
   ],
   "source": [
    "type(var3)"
   ]
  },
  {
   "cell_type": "code",
   "execution_count": 44,
   "id": "ddeb1ed0-daf3-472d-b296-e355b837069e",
   "metadata": {},
   "outputs": [],
   "source": [
    "var4=1"
   ]
  },
  {
   "cell_type": "code",
   "execution_count": 45,
   "id": "ad2d8911-beb1-4297-8174-3dd7d2e9a377",
   "metadata": {},
   "outputs": [
    {
     "data": {
      "text/plain": [
       "int"
      ]
     },
     "execution_count": 45,
     "metadata": {},
     "output_type": "execute_result"
    }
   ],
   "source": [
    "type(var4)"
   ]
  },
  {
   "cell_type": "code",
   "execution_count": 47,
   "id": "5222ec8b-fb36-4805-b2c3-097d02dfca01",
   "metadata": {},
   "outputs": [
    {
     "data": {
      "text/plain": [
       "2.0"
      ]
     },
     "execution_count": 47,
     "metadata": {},
     "output_type": "execute_result"
    }
   ],
   "source": [
    "#QUESTION3\n",
    "4/2 \n"
   ]
  },
  {
   "cell_type": "code",
   "execution_count": 48,
   "id": "258c40b4-f9ba-4a06-b8f1-9337d7b169e0",
   "metadata": {},
   "outputs": [
    {
     "data": {
      "text/plain": [
       "1"
      ]
     },
     "execution_count": 48,
     "metadata": {},
     "output_type": "execute_result"
    }
   ],
   "source": [
    "5%4"
   ]
  },
  {
   "cell_type": "code",
   "execution_count": 49,
   "id": "833954f2-c888-4883-9599-df149dba235c",
   "metadata": {},
   "outputs": [
    {
     "data": {
      "text/plain": [
       "4"
      ]
     },
     "execution_count": 49,
     "metadata": {},
     "output_type": "execute_result"
    }
   ],
   "source": [
    "12//3"
   ]
  },
  {
   "cell_type": "code",
   "execution_count": 50,
   "id": "b933f583-7a50-4b0c-85e0-623b85a6eb88",
   "metadata": {},
   "outputs": [
    {
     "data": {
      "text/plain": [
       "9"
      ]
     },
     "execution_count": 50,
     "metadata": {},
     "output_type": "execute_result"
    }
   ],
   "source": [
    "3**2\n"
   ]
  },
  {
   "cell_type": "code",
   "execution_count": null,
   "id": "33bd22e6-963b-4be8-848e-787b1b68d833",
   "metadata": {},
   "outputs": [],
   "source": []
  }
 ],
 "metadata": {
  "kernelspec": {
   "display_name": "Python 3 (ipykernel)",
   "language": "python",
   "name": "python3"
  },
  "language_info": {
   "codemirror_mode": {
    "name": "ipython",
    "version": 3
   },
   "file_extension": ".py",
   "mimetype": "text/x-python",
   "name": "python",
   "nbconvert_exporter": "python",
   "pygments_lexer": "ipython3",
   "version": "3.10.8"
  }
 },
 "nbformat": 4,
 "nbformat_minor": 5
}
